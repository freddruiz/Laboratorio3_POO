{
 "cells": [
  {
   "cell_type": "markdown",
   "metadata": {},
   "source": [
    "<div style=\"text-align:  \"> Ciencias de Datos en Python </div> <div style=\"text-align: left\"> Autor: Freddy Ruíz </div>"
   ]
  },
  {
   "cell_type": "markdown",
   "metadata": {},
   "source": [
    "#### Hoja de Trabajo # 3 - Diccionarios, Sets y Programacion Orientada a Objetos\n",
    "\n",
    "***"
   ]
  },
  {
   "cell_type": "code",
   "execution_count": null,
   "metadata": {},
   "outputs": [],
   "source": [
    "import numpy as np\n",
    "\n",
    "class my_regression():\n",
    "    \n",
    "    \n",
    "    def __init__(self, x,y):\n",
    "   \n",
    "        x2 = [val**2 for val in x]\n",
    "        self.beta0 = ((len(x)*sum(np.multiply(x,y)))-(sum(x)*sum(y)))/((len(x)*sum(x2))-((sum(x))**2))\n",
    "        self.beta1 = ((len(x)*(sum(x2)*sum(y)))-(sum(x)*(sum(np.multiply(x,y)))))/((len(x)*sum(x2))-((sum(x))**2))\n",
    "        self.x = x #Lista de valores x\n",
    "        self.y = y #Lista de valores y\n",
    "  \n",
    "        \n",
    "   \n",
    "        \n",
    "    def predict(self,val):\n",
    "        return self\n",
    "    \n",
    "    def predictN(self,vals):\n",
    "        return self\n",
    "    \n",
    "    def r2(self):\n",
    "        return self\n",
    "    \n",
    "    def r(self):\n",
    "        return self\n",
    "    \n",
    "    def getAllParams(self):\n",
    "        return self\n",
    "    \n",
    " \n",
    "        \n",
    "    @classmethod\n",
    "    def from_file(cls, path):\n",
    "        if((monto > 0) and (monto < 1.10)):\n",
    "            cls.incremento = monto\n",
    "        else:\n",
    "            print(\"Error en incremento, valor no es valido\")\n",
    "            \n",
    "\n"
   ]
  },
  {
   "cell_type": "code",
   "execution_count": 22,
   "metadata": {},
   "outputs": [
    {
     "name": "stdout",
     "output_type": "stream",
     "text": [
      "421\n",
      "43\n",
      "46\n",
      "391\n",
      "1.1981132075471699\n",
      "677.6132075471698\n",
      "1.1981132075471699\n",
      "677.6132075471698\n",
      "\n"
     ]
    }
   ],
   "source": [
    "import numpy as np\n",
    "x = [5,8,9,10,11]\n",
    "y = [7,3,11,12,13]\n",
    "\n",
    "x2 = [val**2 for val in x]\n",
    "\n",
    "sum_xy = 0\n",
    "sum_x = 0\n",
    "sum_y = 0\n",
    "sum_x2 = 0\n",
    "        \n",
    "for i in range(len(x)):\n",
    "    sum_xy = sum_xy + x[i]*y[i]\n",
    "    sum_x = sum_x + x[i]\n",
    "    sum_y = sum_y + y[i]\n",
    "    sum_x2 = sum_x2 + (x[i])**2\n",
    "    \n",
    "beta0 = ((len(x)*(sum_xy))-(sum_x*sum_y))/((len(x)*sum_x2)-((sum_x)**2))\n",
    "beta1 = ((len(x)*(sum_x2*sum_y))-(sum_x*(sum_xy)))/((len(x)*sum_x2)-((sum_x)**2))\n",
    "\n",
    "print(sum_xy)\n",
    "print(sum_x)\n",
    "print(sum_y)\n",
    "print(sum_x2)\n",
    "print(beta0)\n",
    "print(beta1)\n",
    "\n",
    "beta0 = ((len(x)*sum(np.multiply(x,y)))-(sum(x)*sum(y)))/((len(x)*sum(x2))-((sum(x))**2))\n",
    "beta1 = ((len(x)*(sum(x2)*sum(y)))-(sum(x)*(sum(np.multiply(x,y)))))/((len(x)*sum(x2))-((sum(x))**2))\n",
    "print(beta0)\n",
    "print(beta1)\n",
    "\n",
    "print()\n",
    "\n"
   ]
  },
  {
   "cell_type": "code",
   "execution_count": 16,
   "metadata": {},
   "outputs": [
    {
     "data": {
      "text/plain": [
       "[36, 64, 81, 100, 121]"
      ]
     },
     "execution_count": 16,
     "metadata": {},
     "output_type": "execute_result"
    }
   ],
   "source": [
    "x = [6,8,9,10,11]\n",
    "x2 = [ val**2 for val in x ]\n",
    "x2"
   ]
  },
  {
   "cell_type": "code",
   "execution_count": null,
   "metadata": {},
   "outputs": [],
   "source": []
  }
 ],
 "metadata": {
  "kernelspec": {
   "display_name": "Python 3",
   "language": "python",
   "name": "python3"
  },
  "language_info": {
   "codemirror_mode": {
    "name": "ipython",
    "version": 3
   },
   "file_extension": ".py",
   "mimetype": "text/x-python",
   "name": "python",
   "nbconvert_exporter": "python",
   "pygments_lexer": "ipython3",
   "version": "3.7.6"
  }
 },
 "nbformat": 4,
 "nbformat_minor": 4
}

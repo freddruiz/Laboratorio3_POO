{
 "cells": [
  {
   "cell_type": "markdown",
   "metadata": {},
   "source": [
    "<div style=\"text-align:  \"> Ciencias de Datos en Python </div> <div style=\"text-align: left\"> Autor: Freddy Ruíz </div>"
   ]
  },
  {
   "cell_type": "markdown",
   "metadata": {},
   "source": [
    "#### Hoja de Trabajo # 3 - Diccionarios, Sets y Programacion Orientada a Objetos\n",
    "\n",
    "***"
   ]
  },
  {
   "cell_type": "code",
   "execution_count": 169,
   "metadata": {},
   "outputs": [],
   "source": [
    "import numpy as np\n",
    "\n",
    "class my_regression():\n",
    "    \n",
    "    \n",
    "    def __init__(self, x,y):\n",
    "   \n",
    "        x2 = [val**2 for val in x]\n",
    "        self.beta1 = ((len(x)*sum(np.multiply(x,y)))-(sum(x)*sum(y)))/((len(x)*sum(x2))-((sum(x))**2))\n",
    "        self.beta0 = (((sum(x2)*sum(y)))-(sum(x)*(sum(np.multiply(y,x)))))/((len(x)*sum(x2))-((sum(x))**2))\n",
    "        self.x = x #Lista de valores x\n",
    "        self.y = y #Lista de valores y\n",
    "  \n",
    "        \n",
    "   \n",
    "    def predict(self,val):\n",
    "        return self.beta0+(self.beta1*val)\n",
    "    \n",
    "    def predictN(self,vals):\n",
    "         \n",
    "        return [self.beta0+(self.beta1*val) for val in vals]\n",
    "    \n",
    "    def r2(self):\n",
    "        ym = np.mean(self.y)\n",
    "        yp = self.predictN(self.x)\n",
    "        \n",
    "        sum_denomin=0\n",
    "        for i in range(len(yp)):\n",
    "            sum_denomin=sum_denomin+(yp[i]-self.y[i])**2\n",
    "        \n",
    "        return sum([(val-ym)**2 for val in yp])/sum_denomin\n",
    "    \n",
    "    def r(self):\n",
    "        return np.sqrt(self.r2())\n",
    "    \n",
    "    def getAllParams(self):\n",
    "        return {\"b0\": self.beta0,\"b1\":self.beta1,\"r2\": self.r2(),\"r\": self.r()}\n",
    "    \n",
    " \n",
    "        \n",
    "    @classmethod\n",
    "    def from_file(cls, path):\n",
    "        values = [val.replace(\"\\n\",\"\").split(\",\") for val in open(path, \"r\")]\n",
    "        x=list()\n",
    "        y=list()\n",
    "        for i in range(1,len(values)):\n",
    "            y.append(int(values[i][0]))\n",
    "            x.append(int(values[i][1]))\n",
    "        return cls(x,y)\n",
    "            "
   ]
  },
  {
   "cell_type": "code",
   "execution_count": 170,
   "metadata": {},
   "outputs": [],
   "source": [
    "#--------------Creación del objeto my regresion--------------\n",
    "regresion = my_regression([5,8,9,10,11],[7,3,11,12,13])"
   ]
  },
  {
   "cell_type": "code",
   "execution_count": 171,
   "metadata": {},
   "outputs": [
    {
     "name": "stdout",
     "output_type": "stream",
     "text": [
      "-1.1037735849056605\n",
      "1.1981132075471699\n",
      "[5, 8, 9, 10, 11]\n",
      "[7, 3, 11, 12, 13]\n",
      "2.4905660377358494\n",
      "[4.886792452830189, 8.481132075471699]\n",
      "0.7931644947135483\n",
      "0.8905978299510663\n",
      "{'b0': -1.1037735849056605, 'b1': 1.1981132075471699, 'r2': 0.7931644947135483, 'r': 0.8905978299510663}\n",
      "{'b0': -1.1037735849056605, 'b1': 1.1981132075471699, 'r2': 0.7931644947135483, 'r': 0.8905978299510663}\n"
     ]
    }
   ],
   "source": [
    "#---------------Muestra de resultados------------------\n",
    "print(regresion.beta0)\n",
    "print(regresion.beta1)\n",
    "print(regresion.x)\n",
    "print(regresion.y)\n",
    "print(regresion.predict(3))\n",
    "print(regresion.predictN([5,8]))\n",
    "print(regresion.r2())\n",
    "print(regresion.r())\n",
    "print(regresion.getAllParams())\n",
    "\n",
    "regresion2 = regresion.from_file(\"Test.csv\")\n",
    "print(regresion2.getAllParams())"
   ]
  }
 ],
 "metadata": {
  "kernelspec": {
   "display_name": "Python 3",
   "language": "python",
   "name": "python3"
  },
  "language_info": {
   "codemirror_mode": {
    "name": "ipython",
    "version": 3
   },
   "file_extension": ".py",
   "mimetype": "text/x-python",
   "name": "python",
   "nbconvert_exporter": "python",
   "pygments_lexer": "ipython3",
   "version": "3.7.6"
  }
 },
 "nbformat": 4,
 "nbformat_minor": 4
}

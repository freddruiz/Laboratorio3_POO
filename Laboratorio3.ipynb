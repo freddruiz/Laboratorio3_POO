{
 "cells": [
  {
   "cell_type": "markdown",
   "metadata": {},
   "source": [
    "<div style=\"text-align:  \"> Ciencias de Datos en Python </div> <div style=\"text-align: left\"> Autor: Freddy Ruíz </div>"
   ]
  },
  {
   "cell_type": "markdown",
   "metadata": {},
   "source": [
    "#### Hoja de Trabajo # 3 - Diccionarios, Sets y Programacion Orientada a Objetos\n",
    "\n",
    "***"
   ]
  },
  {
   "cell_type": "code",
   "execution_count": null,
   "metadata": {},
   "outputs": [],
   "source": [
    "import numpy as np\n",
    "\n",
    "class my_regression():\n",
    "    \n",
    "    \n",
    "    def __init__(self, x,y):\n",
    "   \n",
    "        x2 = [val**2 for val in x]\n",
    "        self.beta0 = ((len(x)*sum(np.multiply(x,y)))-(sum(x)*sum(y)))/((len(x)*sum(x2))-((sum(x))**2))\n",
    "        self.beta1 = ((len(x)*(sum(x2)*sum(y)))-(sum(x)*(sum(np.multiply(x,y)))))/((len(x)*sum(x2))-((sum(x))**2))\n",
    "        self.x = x #Lista de valores x\n",
    "        self.y = y #Lista de valores y\n",
    "  \n",
    "        \n",
    "   \n",
    "    def predict(self,val):\n",
    "        return self.beta0+(self.beta1*val)\n",
    "    \n",
    "    def predictN(self,vals):\n",
    "          yp = [self.beta0+(self.beta*val) for val in vals]\n",
    "        return yp\n",
    "    \n",
    "    def r2(self):\n",
    "        ym = np.mean(self.y)\n",
    "        yp = predictN(x)\n",
    "        \n",
    "        for i in range(len(yp)):\n",
    "            sum_denomin=(yp[i]-self.y[i])**2\n",
    "        \n",
    "        return sum([(val-ym)**2 for val in yp])/sum_denomin\n",
    "    \n",
    "    def r(self):\n",
    "        return np.sqrt(self.r2)\n",
    "    \n",
    "    def getAllParams(self):\n",
    "        return {\"b0\": self.beta0,\"b1\":self.beta1,\"r2\": self.r2,\"r\": self.r}\n",
    "    \n",
    " \n",
    "        \n",
    "    @classmethod\n",
    "    def from_file(cls, path):\n",
    "        values = [val.replace(\"\\n\",\"\").split(\",\") for val in open(path, \"r\")]\n",
    "        x=list()\n",
    "        y=list()\n",
    "        for i in range(1,len(values)):\n",
    "            y.append(values[i][0])\n",
    "            x.append(values[i][1])\n",
    "        return cls(x,y)\n",
    "            "
   ]
  }
 ],
 "metadata": {
  "kernelspec": {
   "display_name": "Python 3",
   "language": "python",
   "name": "python3"
  },
  "language_info": {
   "codemirror_mode": {
    "name": "ipython",
    "version": 3
   },
   "file_extension": ".py",
   "mimetype": "text/x-python",
   "name": "python",
   "nbconvert_exporter": "python",
   "pygments_lexer": "ipython3",
   "version": "3.7.6"
  }
 },
 "nbformat": 4,
 "nbformat_minor": 4
}
